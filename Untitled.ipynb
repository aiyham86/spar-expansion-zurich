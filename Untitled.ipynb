{
 "cells": [
  {
   "cell_type": "code",
   "execution_count": 8,
   "id": "9ada2fac-cedb-4361-805f-eeb802d5a60d",
   "metadata": {},
   "outputs": [
    {
     "data": {
      "text/html": [
       "<div>\n",
       "<style scoped>\n",
       "    .dataframe tbody tr th:only-of-type {\n",
       "        vertical-align: middle;\n",
       "    }\n",
       "\n",
       "    .dataframe tbody tr th {\n",
       "        vertical-align: top;\n",
       "    }\n",
       "\n",
       "    .dataframe thead th {\n",
       "        text-align: right;\n",
       "    }\n",
       "</style>\n",
       "<table border=\"1\" class=\"dataframe\">\n",
       "  <thead>\n",
       "    <tr style=\"text-align: right;\">\n",
       "      <th></th>\n",
       "      <th>name</th>\n",
       "      <th>lat</th>\n",
       "      <th>lng</th>\n",
       "      <th>street</th>\n",
       "      <th>city</th>\n",
       "      <th>type</th>\n",
       "      <th>district</th>\n",
       "      <th>place_id</th>\n",
       "      <th>place_details</th>\n",
       "      <th>rating</th>\n",
       "      <th>reviews</th>\n",
       "      <th>size_category</th>\n",
       "      <th>rating_category</th>\n",
       "    </tr>\n",
       "  </thead>\n",
       "  <tbody>\n",
       "    <tr>\n",
       "      <th>0</th>\n",
       "      <td>Migros-Supermarkt - Affoltern a. A.</td>\n",
       "      <td>47.278438</td>\n",
       "      <td>8.453841</td>\n",
       "      <td>Oberdorfstrasse 4</td>\n",
       "      <td>Affoltern am Albis</td>\n",
       "      <td>Migros</td>\n",
       "      <td>Affoltern</td>\n",
       "      <td>ChIJiUOy2zkGkEcRy22nDwkqAks</td>\n",
       "      <td>{'formatted_address': 'Oberdorfstrasse 4, 8910...</td>\n",
       "      <td>4.2</td>\n",
       "      <td>702.0</td>\n",
       "      <td>Medium</td>\n",
       "      <td>Average</td>\n",
       "    </tr>\n",
       "    <tr>\n",
       "      <th>1</th>\n",
       "      <td>Coop Supermarkt Affoltern am Albis</td>\n",
       "      <td>47.273871</td>\n",
       "      <td>8.445676</td>\n",
       "      <td>Büelstrasse 15</td>\n",
       "      <td>Affoltern am Albis</td>\n",
       "      <td>Coop</td>\n",
       "      <td>Affoltern</td>\n",
       "      <td>ChIJk6WFSkcGkEcRwsvlTASqby8</td>\n",
       "      <td>{'formatted_address': 'Büelstrasse 15, 8910 Af...</td>\n",
       "      <td>4.1</td>\n",
       "      <td>1370.0</td>\n",
       "      <td>Large</td>\n",
       "      <td>Average</td>\n",
       "    </tr>\n",
       "    <tr>\n",
       "      <th>2</th>\n",
       "      <td>Coop Supermarkt Obfelden</td>\n",
       "      <td>47.266924</td>\n",
       "      <td>8.424225</td>\n",
       "      <td>Ottenbacherstrasse 23</td>\n",
       "      <td>Obfelden</td>\n",
       "      <td>Coop</td>\n",
       "      <td>Affoltern</td>\n",
       "      <td>ChIJR20XCHAGkEcRC3aZj3d3dHE</td>\n",
       "      <td>{'formatted_address': 'Ottenbacherstrasse 23, ...</td>\n",
       "      <td>4.0</td>\n",
       "      <td>284.0</td>\n",
       "      <td>Small</td>\n",
       "      <td>Average</td>\n",
       "    </tr>\n",
       "    <tr>\n",
       "      <th>3</th>\n",
       "      <td>ALDI SUISSE</td>\n",
       "      <td>47.272743</td>\n",
       "      <td>8.447018</td>\n",
       "      <td>Industriestrasse 5</td>\n",
       "      <td>Affoltern am Albis</td>\n",
       "      <td>Aldi</td>\n",
       "      <td>Affoltern</td>\n",
       "      <td>ChIJLzM1Oh8HkEcRwBmfpSnSZx8</td>\n",
       "      <td>{'formatted_address': 'Industriestrasse 5, 891...</td>\n",
       "      <td>4.1</td>\n",
       "      <td>384.0</td>\n",
       "      <td>Medium</td>\n",
       "      <td>Average</td>\n",
       "    </tr>\n",
       "    <tr>\n",
       "      <th>4</th>\n",
       "      <td>Coop Pronto Shop mit Tankstelle Affoltern am A...</td>\n",
       "      <td>47.284026</td>\n",
       "      <td>8.453483</td>\n",
       "      <td>Im Wängli 6</td>\n",
       "      <td>Affoltern am Albis</td>\n",
       "      <td>Coop</td>\n",
       "      <td>Affoltern</td>\n",
       "      <td>ChIJ8XTvszoGkEcR_9pLF7bYgxU</td>\n",
       "      <td>{'formatted_address': 'Im Wängli 6, 8910 Affol...</td>\n",
       "      <td>4.2</td>\n",
       "      <td>237.0</td>\n",
       "      <td>Small</td>\n",
       "      <td>Average</td>\n",
       "    </tr>\n",
       "  </tbody>\n",
       "</table>\n",
       "</div>"
      ],
      "text/plain": [
       "                                                name        lat       lng  \\\n",
       "0                Migros-Supermarkt - Affoltern a. A.  47.278438  8.453841   \n",
       "1                 Coop Supermarkt Affoltern am Albis  47.273871  8.445676   \n",
       "2                           Coop Supermarkt Obfelden  47.266924  8.424225   \n",
       "3                                        ALDI SUISSE  47.272743  8.447018   \n",
       "4  Coop Pronto Shop mit Tankstelle Affoltern am A...  47.284026  8.453483   \n",
       "\n",
       "                  street                city    type   district  \\\n",
       "0      Oberdorfstrasse 4  Affoltern am Albis  Migros  Affoltern   \n",
       "1         Büelstrasse 15  Affoltern am Albis    Coop  Affoltern   \n",
       "2  Ottenbacherstrasse 23            Obfelden    Coop  Affoltern   \n",
       "3     Industriestrasse 5  Affoltern am Albis    Aldi  Affoltern   \n",
       "4            Im Wängli 6  Affoltern am Albis    Coop  Affoltern   \n",
       "\n",
       "                      place_id  \\\n",
       "0  ChIJiUOy2zkGkEcRy22nDwkqAks   \n",
       "1  ChIJk6WFSkcGkEcRwsvlTASqby8   \n",
       "2  ChIJR20XCHAGkEcRC3aZj3d3dHE   \n",
       "3  ChIJLzM1Oh8HkEcRwBmfpSnSZx8   \n",
       "4  ChIJ8XTvszoGkEcR_9pLF7bYgxU   \n",
       "\n",
       "                                       place_details  rating  reviews  \\\n",
       "0  {'formatted_address': 'Oberdorfstrasse 4, 8910...     4.2    702.0   \n",
       "1  {'formatted_address': 'Büelstrasse 15, 8910 Af...     4.1   1370.0   \n",
       "2  {'formatted_address': 'Ottenbacherstrasse 23, ...     4.0    284.0   \n",
       "3  {'formatted_address': 'Industriestrasse 5, 891...     4.1    384.0   \n",
       "4  {'formatted_address': 'Im Wängli 6, 8910 Affol...     4.2    237.0   \n",
       "\n",
       "  size_category rating_category  \n",
       "0        Medium         Average  \n",
       "1         Large         Average  \n",
       "2         Small         Average  \n",
       "3        Medium         Average  \n",
       "4         Small         Average  "
      ]
     },
     "execution_count": 8,
     "metadata": {},
     "output_type": "execute_result"
    }
   ],
   "source": [
    "import pandas as pd\n",
    "df = pd.read_csv('all_supermarkets_with_size_and_rating.csv')\n",
    "df.head()"
   ]
  },
  {
   "cell_type": "code",
   "execution_count": 10,
   "id": "1566f5b8-3e7c-4d16-a721-1c76bf4929f2",
   "metadata": {},
   "outputs": [
    {
     "data": {
      "text/plain": [
       "array(['Migros', 'Coop', 'Aldi', 'Lidl', 'Denner', 'Spar'], dtype=object)"
      ]
     },
     "execution_count": 10,
     "metadata": {},
     "output_type": "execute_result"
    }
   ],
   "source": [
    "df['type'].unique()"
   ]
  },
  {
   "cell_type": "code",
   "execution_count": 12,
   "id": "bead5a7f-0b0f-4831-871d-4a4bd83afda9",
   "metadata": {},
   "outputs": [
    {
     "data": {
      "text/plain": [
       "type\n",
       "Coop      207\n",
       "Denner    130\n",
       "Migros    117\n",
       "Aldi       53\n",
       "Spar       48\n",
       "Lidl       29\n",
       "Name: count, dtype: int64"
      ]
     },
     "execution_count": 12,
     "metadata": {},
     "output_type": "execute_result"
    }
   ],
   "source": [
    "# Simulated filter values from sidebar\n",
    "selected_districts = df['district'].unique()  # all districts\n",
    "selected_sizes = ['Small', 'Medium', 'Large']\n",
    "min_rating = 0.0  # simulate slider at lowest value\n",
    "\n",
    "# Filter logic (same as your Streamlit app, with .fillna(0) for safety)\n",
    "filtered_df = df[\n",
    "    (df['district'].isin(selected_districts)) &\n",
    "    (df['size_category'].isin(selected_sizes)) &\n",
    "    (df['rating'].fillna(0) >= min_rating)\n",
    "]\n",
    "\n",
    "filtered_df['type'].value_counts()\n"
   ]
  },
  {
   "cell_type": "code",
   "execution_count": null,
   "id": "cfb85634-38d4-4af3-8e55-1918e1de077b",
   "metadata": {},
   "outputs": [],
   "source": []
  }
 ],
 "metadata": {
  "kernelspec": {
   "display_name": "Python 3 (ipykernel)",
   "language": "python",
   "name": "python3"
  },
  "language_info": {
   "codemirror_mode": {
    "name": "ipython",
    "version": 3
   },
   "file_extension": ".py",
   "mimetype": "text/x-python",
   "name": "python",
   "nbconvert_exporter": "python",
   "pygments_lexer": "ipython3",
   "version": "3.12.3"
  }
 },
 "nbformat": 4,
 "nbformat_minor": 5
}
